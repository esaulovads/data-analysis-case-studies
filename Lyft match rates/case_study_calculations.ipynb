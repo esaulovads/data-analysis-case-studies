{
 "cells": [
  {
   "cell_type": "markdown",
   "metadata": {
    "collapsed": false
   },
   "source": [
    "<span style='font-size:x-large'>Case 1:</span><span style='font-size:large'> Assuming the match rate/charge dependency is linear</span>\n",
    "\n"
   ]
  },
  {
   "cell_type": "code",
   "execution_count": 2,
   "metadata": {
    "collapsed": false
   },
   "outputs": [
    {
     "name": "stdout",
     "output_type": "stream",
     "text": [
      "0.9300000000000002\n",
      "0.7650000000000001\n",
      "0.6000000000000001\n"
     ]
    }
   ],
   "source": [
    "# knowing match rates and Lyft's charge and assuming that their dependence is linear I define linear function equation for match rate\n",
    "\n",
    "match_rate_1 = 0.93\n",
    "match_rate_2 = 0.6\n",
    "\n",
    "charge_1 = 3\n",
    "charge_2 = 6\n",
    "\n",
    "slope = (match_rate_2 - match_rate_1) / (charge_2 - charge_1)\n",
    "\n",
    "y_intercept = match_rate_1 - slope * charge_1\n",
    "\n",
    "def calculate_match_rate(charge_amount):\n",
    "    return(slope * charge_amount + y_intercept)\n",
    "\n",
    "print(calculate_match_rate(3))\n",
    "print(calculate_match_rate(4.5))\n",
    "print(calculate_match_rate(6))"
   ]
  },
  {
   "cell_type": "code",
   "execution_count": 3,
   "metadata": {
    "collapsed": false
   },
   "outputs": [
    {
     "name": "stdout",
     "output_type": "stream",
     "text": [
      "0.192\n",
      "0.11609999999999998\n",
      "0.15404999999999996\n"
     ]
    }
   ],
   "source": [
    "churn_when_match = 0.1\n",
    "churn_when_no_match = 0.33\n",
    "\n",
    "# define a function that calculates churn knowing the charge amount\n",
    "\n",
    "def calculate_riders_month_churn(charge_amount):\n",
    "    match_rate = calculate_match_rate(charge_amount)\n",
    "    mismatch_rate = 1 - match_rate\n",
    "    result = churn_when_match * match_rate + churn_when_no_match * mismatch_rate\n",
    "    return(result)\n",
    "\n",
    "print(calculate_riders_month_churn(6))\n",
    "print(calculate_riders_month_churn(3))\n",
    "print(calculate_riders_month_churn(4.5))"
   ]
  },
  {
   "cell_type": "code",
   "execution_count": 4,
   "metadata": {
    "collapsed": false
   },
   "outputs": [
    {
     "name": "stdout",
     "output_type": "stream",
     "text": [
      "999.9999999999998\n",
      "322.58064516129025\n",
      "487.80487804878044\n"
     ]
    }
   ],
   "source": [
    "# now I will define a function that will allow us to calculate the net revenue per month knowing the charge amount and number of riders\n",
    "# if match_rate = num_riders / num_rides, then num_rides = num_riders / match_rate\n",
    "\n",
    "def calculate_revenue(num_riders, charge_amount):\n",
    "    num_rides = num_riders / calculate_match_rate(charge_amount)\n",
    "    result = num_rides * charge_amount\n",
    "    return(result)\n",
    "\n",
    "print(calculate_revenue(100, 6))\n",
    "print(calculate_revenue(100, 3))\n",
    "print(calculate_revenue(100, 4))"
   ]
  },
  {
   "cell_type": "code",
   "execution_count": 5,
   "metadata": {
    "collapsed": false
   },
   "outputs": [
    {
     "name": "stdout",
     "output_type": "stream",
     "text": [
      "0\n",
      "0\n",
      "0\n"
     ]
    }
   ],
   "source": [
    "# and I will also define a function that allows us to calculate month-to-month riders retention within a cohort knowing the charge amount\n",
    "\n",
    "def calculate_nth_month_rider_retention(initial_riders_amount, months, charge_amount):\n",
    "    churn = calculate_riders_month_churn(charge_amount)\n",
    "    riders_per_month = []\n",
    "    riders_amount = initial_riders_amount\n",
    "    i = 0\n",
    "    while i <= months:\n",
    "        nth_month_riders_amount = round(riders_amount - (initial_riders_amount * churn))\n",
    "        if nth_month_riders_amount >= 0:\n",
    "            riders_per_month.append(nth_month_riders_amount)\n",
    "        else: \n",
    "            riders_per_month.append(0)\n",
    "        riders_amount = nth_month_riders_amount\n",
    "        i += 1\n",
    "    result = riders_per_month[months-1]\n",
    "    return(result)\n",
    "\n",
    "# I also used this function to calculate retention for all 12 month simultaneously, thus - an array (: I know it's unoptimal though\n",
    "\n",
    "print(calculate_nth_month_rider_retention(1000, 12, 6))\n",
    "print(calculate_nth_month_rider_retention(1000, 12, 3))\n",
    "print(calculate_nth_month_rider_retention(1000, 12, 4.5))"
   ]
  },
  {
   "cell_type": "code",
   "execution_count": 6,
   "metadata": {
    "collapsed": false
   },
   "outputs": [
    {
     "name": "stdout",
     "output_type": "stream",
     "text": [
      "12335.483870967739\n",
      "21199.999999999996\n",
      "16270.588235294115\n"
     ]
    }
   ],
   "source": [
    "# here is a function that calculates net revenue per month using cohort size and charge amount\n",
    "\n",
    "def calculate_net_revenue_to_month(initial_riders_amount, months, charge_amount):\n",
    "    monthly_revenue = []\n",
    "    i = 0\n",
    "    while i < months: \n",
    "        riders_amount = calculate_nth_month_rider_retention(initial_riders_amount, i+1, charge_amount)\n",
    "        rev = calculate_revenue(riders_amount, charge_amount)\n",
    "        if rev >= 0:\n",
    "            monthly_revenue.append(rev)\n",
    "        else: \n",
    "            monthly_revenue.append(0)\n",
    "        i += 1\n",
    "    return(monthly_revenue)\n",
    "           \n",
    "print(sum(calculate_net_revenue_to_month(1000, 12, 3)))\n",
    "print(sum(calculate_net_revenue_to_month(1000, 12, 6)))\n",
    "print(sum(calculate_net_revenue_to_month(1000, 12, 4.5)))"
   ]
  },
  {
   "cell_type": "code",
   "execution_count": 7,
   "metadata": {
    "collapsed": false
   },
   "outputs": [
    {
     "name": "stdout",
     "output_type": "stream",
     "text": [
      "0.6167741935483869\n",
      "1.0599999999999998\n",
      "0.744390243902439\n",
      "1.008530805687204\n"
     ]
    }
   ],
   "source": [
    "# calculate roi of the cohort with selected charge amount\n",
    "\n",
    "rider_cac = 20\n",
    "\n",
    "def calculate_roi(riders_acquisited, charge_amount, months):\n",
    "    roi = sum(calculate_net_revenue_to_month(riders_acquisited, months, charge_amount)) / (riders_acquisited * rider_cac)\n",
    "    return(roi)\n",
    "\n",
    "print(calculate_roi(1000, 3, 12))\n",
    "print(calculate_roi(1000, 6, 12))\n",
    "print(calculate_roi(1000, 4, 12))\n",
    "print(calculate_roi(1000, 5.7, 12))"
   ]
  },
  {
   "cell_type": "markdown",
   "metadata": {
    "collapsed": false
   },
   "source": [
    "<span style='font-size:x-large'>Case 2:</span><span style='font-size:large'> Assuming</span> <span style='font-size:large'>the dependency is non\\-linear</span>\n",
    "\n",
    "Let's model this situation and find out if we really need to run the 3rd experiment\n",
    "\n"
   ]
  },
  {
   "cell_type": "code",
   "execution_count": 8,
   "metadata": {
    "collapsed": false
   },
   "outputs": [
   ],
   "source": [
    "# let's imagine we conducted the second experiment and found out the dependency is nonlinear\n",
    "\n",
    "match_rate_1 = 0.6\n",
    "match_rate_2 = 0.93\n",
    "match_rate_3 = 0.6 # I've also tried match rate == 0.93 here\n",
    "\n",
    "charge_1 = 6\n",
    "charge_2 = 3\n",
    "charge_3 = 4.5"
   ]
  },
  {
   "cell_type": "code",
   "execution_count": 9,
   "metadata": {
    "collapsed": false
   },
   "outputs": [
    {
     "name": "stdout",
     "output_type": "stream",
     "text": [
      "[ 0.07333333 -0.77        2.58      ]\n",
      "0.6000000000000001\n",
      "0.9300000000000002\n",
      "0.730416\n",
      "0.6000000000000003\n",
      "0.558933333333334\n"
     ]
    }
   ],
   "source": [
    "# I'll use polynomial interpolation to find out an equation behind the dependency\n",
    "\n",
    "import numpy as np\n",
    "from numpy.linalg import solve\n",
    "\n",
    "points = [(charge_1, match_rate_1), (charge_2, match_rate_2), (charge_3, match_rate_3)]\n",
    "\n",
    "x_matrix = np.array([[charge_1**2, charge_1, 1], [charge_2**2, charge_2, 1], [charge_3**2, charge_3, 1]])\n",
    "\n",
    "y_vector = np.array([match_rate_1, match_rate_2, match_rate_3])\n",
    "\n",
    "coefficients = solve(x_matrix, y_vector)\n",
    "\n",
    "a, b, c = coefficients\n",
    "\n",
    "print(coefficients)\n",
    "\n",
    "# and define the new function to find out the match rate\n",
    "\n",
    "def calculate_match_rate_2(charge_amount):\n",
    "    return(a * charge_amount**2 + b * charge_amount + c)\n",
    "\n",
    "print(calculate_match_rate_2(6))\n",
    "print(calculate_match_rate_2(3))\n",
    "print(calculate_match_rate_2(3.72)) #local max when match rate(4.5) = 0.93\n",
    "print(calculate_match_rate_2(4.5))\n",
    "print(calculate_match_rate_2(5.3)) #local min when match rate(4.5) = 0.6"
   ]
  },
  {
   "cell_type": "code",
   "execution_count": 10,
   "metadata": {
    "collapsed": false
   },
   "outputs": [
    {
     "name": "stdout",
     "output_type": "stream",
     "text": [
      "0.192\n",
      "0.11609999999999998\n",
      "0.17513333333333336\n",
      "0.20144533333333342\n",
      "0.16200432000000003\n"
     ]
    }
   ],
   "source": [
    "# and now we just duplicate all of the calculations\n",
    "\n",
    "churn_when_match = 0.1\n",
    "churn_when_no_match = 0.33\n",
    "\n",
    "# define a function that allows us to calculate churn knowing the charge amount\n",
    "\n",
    "def calculate_riders_month_churn_2(charge_amount):\n",
    "    match_rate = calculate_match_rate_2(charge_amount)\n",
    "    mismatch_rate = 1 - match_rate\n",
    "    result = churn_when_match * match_rate + churn_when_no_match * mismatch_rate\n",
    "    return(result)\n",
    "\n",
    "print(calculate_riders_month_churn_2(6))\n",
    "print(calculate_riders_month_churn_2(3))\n",
    "print(calculate_riders_month_churn_2(4))\n",
    "print(calculate_riders_month_churn_2(5.2))\n",
    "print(calculate_riders_month_churn_2(3.72))"
   ]
  },
  {
   "cell_type": "code",
   "execution_count": 11,
   "metadata": {
    "collapsed": false
   },
   "outputs": [
    {
     "name": "stdout",
     "output_type": "stream",
     "text": [
      "999.9999999999998\n",
      "322.58064516129025\n",
      "594.059405940594\n"
     ]
    }
   ],
   "source": [
    "def calculate_revenue_2(num_riders, charge_amount):\n",
    "    num_rides = num_riders / calculate_match_rate_2(charge_amount)\n",
    "    result = num_rides * charge_amount\n",
    "    return(result)\n",
    "\n",
    "print(calculate_revenue_2(100, 6))\n",
    "print(calculate_revenue_2(100, 3))\n",
    "print(calculate_revenue_2(100, 4))"
   ]
  },
  {
   "cell_type": "code",
   "execution_count": 12,
   "metadata": {
    "collapsed": false
   },
   "outputs": [
    {
     "name": "stdout",
     "output_type": "stream",
     "text": [
      "808\n",
      "884\n",
      "825\n"
     ]
    }
   ],
   "source": [
    "def calculate_nth_month_rider_retention_2(initial_riders_amount, months, charge_amount):\n",
    "    churn = calculate_riders_month_churn_2(charge_amount)\n",
    "    riders_per_month = []\n",
    "    riders_amount = initial_riders_amount\n",
    "    i = 0\n",
    "    while i <= months:\n",
    "        nth_month_riders_amount = round(riders_amount - (initial_riders_amount * churn))\n",
    "        riders_per_month.append(nth_month_riders_amount)\n",
    "        riders_amount = nth_month_riders_amount\n",
    "        i += 1\n",
    "    result = riders_per_month[months-1]\n",
    "    return(result)\n",
    "\n",
    "print(calculate_nth_month_rider_retention_2(1000, 1, 6))\n",
    "print(calculate_nth_month_rider_retention_2(1000, 1, 3))\n",
    "print(calculate_nth_month_rider_retention_2(1000, 1, 4))"
   ]
  },
  {
   "cell_type": "code",
   "execution_count": 13,
   "metadata": {
    "collapsed": false
   },
   "outputs": [
    {
     "name": "stdout",
     "output_type": "stream",
     "text": [
      "12335.483870967739\n",
      "21199.999999999996\n",
      "18513.835877862606\n",
      "13231.58309785109\n",
      "15899.999999999993\n"
     ]
    }
   ],
   "source": [
    "def calculate_net_revenue_to_month_2(initial_riders_amount, months, charge_amount):\n",
    "    monthly_revenue = []\n",
    "    i = 0\n",
    "    while i < months: \n",
    "        riders_amount = calculate_nth_month_rider_retention_2(initial_riders_amount, i+1, charge_amount)\n",
    "        rev = calculate_revenue_2(riders_amount, charge_amount)\n",
    "        if rev >= 0:\n",
    "            monthly_revenue.append(rev)\n",
    "        else: \n",
    "            monthly_revenue.append(0)\n",
    "        i += 1\n",
    "    return(monthly_revenue)\n",
    "           \n",
    "print(sum(calculate_net_revenue_to_month_2(1000, 12, 3)))\n",
    "print(sum(calculate_net_revenue_to_month_2(1000, 12, 6)))\n",
    "print(sum(calculate_net_revenue_to_month_2(1000, 12, 5.2)))\n",
    "print(sum(calculate_net_revenue_to_month_2(1000, 12, 3.72)))\n",
    "print(sum(calculate_net_revenue_to_month_2(1000, 12, 4.5)))"
   ]
  },
  {
   "cell_type": "code",
   "execution_count": 14,
   "metadata": {
    "collapsed": false
   },
   "outputs": [
    {
     "name": "stdout",
     "output_type": "stream",
     "text": [
      "0.6167741935483869\n",
      "1.0599999999999998\n",
      "0.7054455445544554\n",
      "0.9434935591603043\n"
     ]
    }
   ],
   "source": [
    "rider_cac = 20\n",
    "\n",
    "def calculate_roi_2(riders_acquisited, charge_amount, months):\n",
    "    roi = sum(calculate_net_revenue_to_month_2(riders_acquisited, months, charge_amount)) / (riders_acquisited * rider_cac)\n",
    "    return(roi)\n",
    "\n",
    "print(calculate_roi_2(1000, 3, 12))\n",
    "print(calculate_roi_2(1000, 6, 12))\n",
    "print(calculate_roi_2(1000, 4, 12))\n",
    "print(calculate_roi_2(1000, 5.3, 12))"
   ]
  },
  {
   "cell_type": "markdown",
   "metadata": {
    "collapsed": false
   },
   "source": [
    "<span style='font-size:x-large'>Case 3:</span><span style='font-size:large'> Assuming we stabilized retention at 10%</span>\n",
    "\n",
    "<span style='font-size:small'>Trying to find even more optimal strategy</span>\n",
    "\n"
   ]
  },
  {
   "cell_type": "code",
   "execution_count": 15,
   "metadata": {
    "collapsed": false
   },
   "outputs": [
    {
     "name": "stdout",
     "output_type": "stream",
     "text": [
      "100.0\n",
      "100.0\n",
      "100.0\n"
     ]
    }
   ],
   "source": [
    "retention_stabilized_at = 0.1\n",
    "\n",
    "# redefining retention calculation\n",
    "\n",
    "def calculate_nth_month_rider_retention_stabilized(initial_riders_amount, months, charge_amount):\n",
    "    churn = calculate_riders_month_churn(charge_amount)\n",
    "    riders_per_month = []\n",
    "    riders_amount = initial_riders_amount\n",
    "    i = 0\n",
    "    while i <= months:\n",
    "        nth_month_riders_amount = round(riders_amount - (initial_riders_amount * churn))\n",
    "        if nth_month_riders_amount >= initial_riders_amount * retention_stabilized_at:\n",
    "            riders_per_month.append(nth_month_riders_amount)\n",
    "        else: \n",
    "            riders_per_month.append(initial_riders_amount * retention_stabilized_at)\n",
    "        riders_amount = nth_month_riders_amount\n",
    "        i += 1\n",
    "    result = riders_per_month[months-1]\n",
    "    return(result)\n",
    "\n",
    "print(calculate_nth_month_rider_retention_stabilized(1000, 12, 6))\n",
    "print(calculate_nth_month_rider_retention_stabilized(1000, 12, 3))\n",
    "print(calculate_nth_month_rider_retention_stabilized(1000, 12, 4))"
   ]
  },
  {
   "cell_type": "code",
   "execution_count": 16,
   "metadata": {
    "collapsed": false
   },
   "outputs": [
    {
     "name": "stdout",
     "output_type": "stream",
     "text": [
      "17587.096774193542\n",
      "40799.99999999999\n",
      "32651.16279069764\n",
      "26999.999999999993\n"
     ]
    }
   ],
   "source": [
    "# as well as net revenue calculation function\n",
    "\n",
    "def calculate_net_revenue_to_month_stabilized(initial_riders_amount, months, charge_amount):\n",
    "    monthly_revenue = []\n",
    "    i = 0\n",
    "    while i < months: \n",
    "        riders_amount = calculate_nth_month_rider_retention_stabilized(initial_riders_amount, i+1, charge_amount)\n",
    "        rev = calculate_revenue(riders_amount, charge_amount)\n",
    "        if rev >= 0:\n",
    "            monthly_revenue.append(rev)\n",
    "        else: \n",
    "            monthly_revenue.append(0)\n",
    "        i += 1\n",
    "    return(monthly_revenue)\n",
    "           \n",
    "print(sum(calculate_net_revenue_to_month_stabilized(1000, 24, 3)))\n",
    "print(sum(calculate_net_revenue_to_month_stabilized(1000, 24, 6)))\n",
    "print(sum(calculate_net_revenue_to_month_stabilized(1000, 24, 5.2)))\n",
    "print(sum(calculate_net_revenue_to_month_stabilized(1000, 24, 4.5)))"
   ]
  },
  {
   "cell_type": "code",
   "execution_count": 17,
   "metadata": {
    "collapsed": false
   },
   "outputs": [
    {
     "name": "stdout",
     "output_type": "stream",
     "text": [
      "0.8793548387096771\n",
      "2.0399999999999996\n",
      "1.1802439024390246\n",
      "1.6792466765140337\n"
     ]
    }
   ],
   "source": [
    "# and redefine roi\n",
    "\n",
    "def calculate_roi_stabilized(riders_acquisited, charge_amount, months):\n",
    "    roi = sum(calculate_net_revenue_to_month_stabilized(riders_acquisited, months, charge_amount)) / (riders_acquisited * rider_cac)\n",
    "    return(roi)\n",
    "\n",
    "print(calculate_roi_stabilized(1000, 3, 24))\n",
    "print(calculate_roi_stabilized(1000, 6, 24))\n",
    "print(calculate_roi_stabilized(1000, 4, 24))\n",
    "print(calculate_roi_stabilized(1000, 5.3, 24))"
   ]
  }
 ],
 "metadata": {
  "kernelspec": {
   "argv": [
    "/usr/bin/python3",
    "-m",
    "ipykernel",
    "--HistoryManager.enabled=False",
    "--matplotlib=inline",
    "-c",
    "%config InlineBackend.figure_formats = set(['retina'])\nimport matplotlib; matplotlib.rcParams['figure.figsize'] = (12, 7)",
    "-f",
    "{connection_file}"
   ],
   "display_name": "Python 3 (system-wide)",
   "env": {
   },
   "language": "python",
   "metadata": {
    "cocalc": {
     "description": "Python 3 programming language",
     "priority": 100,
     "url": "https://www.python.org/"
    }
   },
   "name": "python3",
   "resource_dir": "/ext/jupyter/kernels/python3"
  },
  "language_info": {
   "codemirror_mode": {
    "name": "ipython",
    "version": 3
   },
   "file_extension": ".py",
   "mimetype": "text/x-python",
   "name": "python",
   "nbconvert_exporter": "python",
   "pygments_lexer": "ipython3",
   "version": "3.10.6"
  }
 },
 "nbformat": 4,
 "nbformat_minor": 4
}